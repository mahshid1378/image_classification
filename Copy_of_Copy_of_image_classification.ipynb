{
  "nbformat": 4,
  "nbformat_minor": 0,
  "metadata": {
    "colab": {
      "name": "Copy_of_Copy_of_image_classification.ipynb",
      "provenance": [],
      "collapsed_sections": []
    },
    "kernelspec": {
      "name": "python3",
      "display_name": "Python 3"
    },
    "accelerator": "GPU"
  },
  "cells": [
    {
      "cell_type": "code",
      "metadata": {
        "id": "pZoGDwnLbtKD"
      },
      "source": [
        "#import tensorflow\r\n",
        "#print(tensorflow.__version__)"
      ],
      "execution_count": null,
      "outputs": []
    },
    {
      "cell_type": "code",
      "metadata": {
        "colab": {
          "base_uri": "https://localhost:8080/"
        },
        "id": "NxlXB88PMXmI",
        "outputId": "6ea0aa27-8955-4af2-f1d8-1cf8042928f9"
      },
      "source": [
        "%cd /content/drive/MyDrive/ML Project\r\n"
      ],
      "execution_count": 4,
      "outputs": [
        {
          "output_type": "stream",
          "text": [
            "/content/drive/.shortcut-targets-by-id/1OGBxv0w8wrNxcfysVAcQP9R25afxB_kT/ML Project\n"
          ],
          "name": "stdout"
        }
      ]
    },
    {
      "cell_type": "code",
      "metadata": {
        "colab": {
          "base_uri": "https://localhost:8080/"
        },
        "id": "TkarOVV2dN1Y",
        "outputId": "4c63573e-b769-417d-b8e4-2cac3abbe9b8"
      },
      "source": [
        "from google.colab import drive\n",
        "drive.mount('/content/drive')"
      ],
      "execution_count": 2,
      "outputs": [
        {
          "output_type": "stream",
          "text": [
            "Mounted at /content/drive\n"
          ],
          "name": "stdout"
        }
      ]
    },
    {
      "cell_type": "code",
      "metadata": {
        "id": "b-_DYSwKMxs7"
      },
      "source": [
        "!mkdir ~/.kaggle"
      ],
      "execution_count": null,
      "outputs": []
    },
    {
      "cell_type": "code",
      "metadata": {
        "id": "QHQ0nh84NpZH",
        "colab": {
          "base_uri": "https://localhost:8080/"
        },
        "outputId": "6d3ab0a4-f8e3-4d16-e176-682402102680"
      },
      "source": [
        "!cp /content/kaggle.json ~/.kaggle"
      ],
      "execution_count": null,
      "outputs": [
        {
          "output_type": "stream",
          "text": [
            "cp: cannot stat '/content/kaggle.json': No such file or directory\n"
          ],
          "name": "stdout"
        }
      ]
    },
    {
      "cell_type": "markdown",
      "metadata": {
        "id": "40BOal9XdM99"
      },
      "source": [
        ""
      ]
    },
    {
      "cell_type": "code",
      "metadata": {
        "colab": {
          "base_uri": "https://localhost:8080/"
        },
        "id": "HJ7CkSFxNtx3",
        "outputId": "f2cf6554-d237-41e2-cdde-7a361fd1fa48"
      },
      "source": [
        "!kaggle datasets download -d meowmeowmeowmeowmeow/gtsrb-german-traffic-sign"
      ],
      "execution_count": null,
      "outputs": [
        {
          "output_type": "stream",
          "text": [
            "Traceback (most recent call last):\n",
            "  File \"/usr/local/bin/kaggle\", line 5, in <module>\n",
            "    from kaggle.cli import main\n",
            "  File \"/usr/local/lib/python2.7/dist-packages/kaggle/__init__.py\", line 23, in <module>\n",
            "    api.authenticate()\n",
            "  File \"/usr/local/lib/python2.7/dist-packages/kaggle/api/kaggle_api_extended.py\", line 146, in authenticate\n",
            "    self.config_file, self.config_dir))\n",
            "IOError: Could not find kaggle.json. Make sure it's located in /root/.kaggle. Or use the environment method.\n"
          ],
          "name": "stdout"
        }
      ]
    },
    {
      "cell_type": "code",
      "metadata": {
        "id": "NH3-3bxTN4ng",
        "colab": {
          "base_uri": "https://localhost:8080/"
        },
        "outputId": "a29f1f57-8c6d-44b3-a073-c8b4d2e5f01a"
      },
      "source": [
        "!unzip gtsrb-german-traffic-sign.zip -d ."
      ],
      "execution_count": null,
      "outputs": [
        {
          "output_type": "stream",
          "text": [
            "unzip:  cannot find or open gtsrb-german-traffic-sign.zip, gtsrb-german-traffic-sign.zip.zip or gtsrb-german-traffic-sign.zip.ZIP.\n"
          ],
          "name": "stdout"
        }
      ]
    },
    {
      "cell_type": "code",
      "metadata": {
        "id": "4LFjfIwpOCwX"
      },
      "source": [
        "# define some variables for later usage\r\n",
        "epochs = 10\r\n",
        "img_size = 150\r\n",
        "batch_size = 32"
      ],
      "execution_count": null,
      "outputs": []
    },
    {
      "cell_type": "code",
      "metadata": {
        "id": "Ratw5bQrPhGX"
      },
      "source": [
        "data_dir = \"/content/drive/MyDrive/ML Project/Pneumonia\"\r\n",
        "TEST = '/content/drive/MyDrive/ML Project/Pneumonia/test/'\r\n",
        "TRAIN = '/content/drive/MyDrive/ML Project/Pneumonia/train/'\r\n",
        "VAL ='/content/drive/MyDrive/ML Project/Pneumonia/valid/'"
      ],
      "execution_count": 1,
      "outputs": []
    },
    {
      "cell_type": "code",
      "metadata": {
        "colab": {
          "base_uri": "https://localhost:8080/"
        },
        "id": "TNISOnxAPmyO",
        "outputId": "803dbe56-ab82-4321-b99c-8b561f495faa"
      },
      "source": [
        "from tensorflow.keras.preprocessing.image import ImageDataGenerator\r\n",
        "train_datagen = ImageDataGenerator(rescale = 1./255,\r\n",
        "                                   zoom_range = 0.2, \r\n",
        "                                   vertical_flip = True)\r\n",
        "\r\n",
        "# load a mini batch of images directly from the source folder then convert them into a vector of attributes\r\n",
        "training_set = train_datagen.flow_from_directory(directory = data_dir + '/train',\r\n",
        "                                                 batch_size = 8,\r\n",
        "                                                 target_size = (150, 150),\r\n",
        "                                                 shuffle = True,\r\n",
        "                                                 class_mode = 'binary')"
      ],
      "execution_count": null,
      "outputs": [
        {
          "output_type": "stream",
          "text": [
            "Found 5216 images belonging to 2 classes.\n"
          ],
          "name": "stdout"
        }
      ]
    },
    {
      "cell_type": "code",
      "metadata": {
        "colab": {
          "base_uri": "https://localhost:8080/"
        },
        "id": "smQb-0m4ibKy",
        "outputId": "2038ccc5-0e23-4bfe-aab8-397a8ec9c784"
      },
      "source": [
        "training_set.labels"
      ],
      "execution_count": null,
      "outputs": [
        {
          "output_type": "execute_result",
          "data": {
            "text/plain": [
              "array([0, 0, 0, ..., 1, 1, 1], dtype=int32)"
            ]
          },
          "metadata": {
            "tags": []
          },
          "execution_count": 8
        }
      ]
    },
    {
      "cell_type": "code",
      "metadata": {
        "colab": {
          "base_uri": "https://localhost:8080/"
        },
        "id": "uwdLCz-jY-VZ",
        "outputId": "ab440955-dc03-4dcd-9843-0b04a9e93d84"
      },
      "source": [
        "test_datagen = ImageDataGenerator(rescale = 1./255)\r\n",
        "\r\n",
        "test_set = test_datagen.flow_from_directory(directory = data_dir + '/test',\r\n",
        "                                            batch_size = 8,\r\n",
        "                                            target_size = (150, 150),\r\n",
        "                                            shuffle = True,\r\n",
        "                                            class_mode = 'binary')"
      ],
      "execution_count": null,
      "outputs": [
        {
          "output_type": "stream",
          "text": [
            "Found 624 images belonging to 2 classes.\n"
          ],
          "name": "stdout"
        }
      ]
    },
    {
      "cell_type": "code",
      "metadata": {
        "id": "PGkmTNt3Pm-G"
      },
      "source": [
        "# import required libraries\r\n",
        "import os\r\n",
        "import cv2\r\n",
        "import numpy as np\r\n",
        "import matplotlib.pyplot as plt\r\n",
        "\r\n",
        "from keras.models import Sequential\r\n",
        "from keras.preprocessing import image\r\n",
        "from mlxtend.plotting import plot_confusion_matrix\r\n",
        "from keras.preprocessing.image import ImageDataGenerator\r\n",
        "from sklearn.metrics import accuracy_score, confusion_matrix\r\n",
        "\r\n",
        "from keras.layers import Dense, Conv2D, Dropout, Flatten, Activation\r\n",
        "from keras.layers import SeparableConv2D, MaxPool2D, BatchNormalization\r\n",
        "from keras.callbacks import ModelCheckpoint, ReduceLROnPlateau, EarlyStopping"
      ],
      "execution_count": null,
      "outputs": []
    },
    {
      "cell_type": "code",
      "metadata": {
        "id": "SlgvWxkGPp_-"
      },
      "source": [
        "model = Sequential()\r\n",
        "\r\n",
        "# 1st conv\r\n",
        "# 1st conv\r\n",
        "model.add(Conv2D(filters = 16, kernel_size = (3, 3), input_shape = (150, 150, 3), activation = 'relu', padding = 'same'))\r\n",
        "model.add(Conv2D(filters = 16, kernel_size = (3, 3), activation = 'relu', padding = 'same'))\r\n",
        "model.add(MaxPool2D(pool_size = (2, 2)))\r\n",
        "model.add(Flatten())\r\n",
        "model.add(Dense(32,  activation = 'relu'))\r\n",
        "\r\n",
        "model.add(Dense(units = 1, activation = 'sigmoid'))"
      ],
      "execution_count": null,
      "outputs": []
    },
    {
      "cell_type": "code",
      "metadata": {
        "id": "iPpM4_ScVnQU"
      },
      "source": [
        "model.compile(optimizer = 'adam', loss = 'binary_crossentropy', metrics = ['accuracy'])\r\n"
      ],
      "execution_count": null,
      "outputs": []
    },
    {
      "cell_type": "code",
      "metadata": {
        "colab": {
          "base_uri": "https://localhost:8080/",
          "height": 1000
        },
        "id": "3tOE8nGbVqkE",
        "outputId": "a77ca472-34db-4919-ea69-e17264d2c66e"
      },
      "source": [
        "# fit the data to the cnn model\r\n",
        "cnn = model.fit_generator(training_set,\r\n",
        "                          epochs =5,\r\n",
        "                          steps_per_epoch = training_set.samples // 8,\r\n",
        "                          validation_data = test_set,\r\n",
        "                          validation_steps = test_set.samples // 8,\r\n",
        "                          )        "
      ],
      "execution_count": null,
      "outputs": [
        {
          "output_type": "stream",
          "text": [
            "/usr/local/lib/python3.6/dist-packages/tensorflow/python/keras/engine/training.py:1844: UserWarning: `Model.fit_generator` is deprecated and will be removed in a future version. Please use `Model.fit`, which supports generators.\n",
            "  warnings.warn('`Model.fit_generator` is deprecated and '\n"
          ],
          "name": "stderr"
        },
        {
          "output_type": "stream",
          "text": [
            "Epoch 1/5\n",
            "652/652 [==============================] - ETA: 0s - loss: 0.4404 - accuracy: 0.8280"
          ],
          "name": "stdout"
        },
        {
          "output_type": "stream",
          "text": [
            "ERROR:root:Internal Python error in the inspect module.\n",
            "Below is the traceback from this internal error.\n",
            "\n"
          ],
          "name": "stderr"
        },
        {
          "output_type": "stream",
          "text": [
            "Traceback (most recent call last):\n",
            "  File \"/usr/local/lib/python3.6/dist-packages/IPython/core/interactiveshell.py\", line 2882, in run_code\n",
            "    exec(code_obj, self.user_global_ns, self.user_ns)\n",
            "  File \"<ipython-input-13-3fb31745922a>\", line 6, in <module>\n",
            "    validation_steps = test_set.samples // 8,\n",
            "  File \"/usr/local/lib/python3.6/dist-packages/tensorflow/python/keras/engine/training.py\", line 1861, in fit_generator\n",
            "    initial_epoch=initial_epoch)\n",
            "  File \"/usr/local/lib/python3.6/dist-packages/tensorflow/python/keras/engine/training.py\", line 1117, in fit\n",
            "    self._fit_frame = tf_inspect.currentframe()\n",
            "  File \"/usr/local/lib/python3.6/dist-packages/tensorflow/python/keras/utils/tf_inspect.py\", line 95, in currentframe\n",
            "    return _inspect.stack()[1][0]\n",
            "  File \"/usr/lib/python3.6/inspect.py\", line 1501, in stack\n",
            "    return getouterframes(sys._getframe(1), context)\n",
            "  File \"/usr/lib/python3.6/inspect.py\", line 1478, in getouterframes\n",
            "    frameinfo = (frame,) + getframeinfo(frame, context)\n",
            "  File \"/usr/lib/python3.6/inspect.py\", line 1448, in getframeinfo\n",
            "    filename = getsourcefile(frame) or getfile(frame)\n",
            "  File \"/usr/lib/python3.6/inspect.py\", line 696, in getsourcefile\n",
            "    if getattr(getmodule(object, filename), '__loader__', None) is not None:\n",
            "  File \"/usr/lib/python3.6/inspect.py\", line 725, in getmodule\n",
            "    file = getabsfile(object, _filename)\n",
            "  File \"/usr/lib/python3.6/inspect.py\", line 709, in getabsfile\n",
            "    return os.path.normcase(os.path.abspath(_filename))\n",
            "  File \"/usr/lib/python3.6/posixpath.py\", line 383, in abspath\n",
            "    cwd = os.getcwd()\n",
            "FileNotFoundError: [Errno 2] No such file or directory\n",
            "\n",
            "During handling of the above exception, another exception occurred:\n",
            "\n",
            "Traceback (most recent call last):\n",
            "  File \"/usr/local/lib/python3.6/dist-packages/IPython/core/interactiveshell.py\", line 1823, in showtraceback\n",
            "    stb = value._render_traceback_()\n",
            "AttributeError: 'FileNotFoundError' object has no attribute '_render_traceback_'\n",
            "\n",
            "During handling of the above exception, another exception occurred:\n",
            "\n",
            "Traceback (most recent call last):\n",
            "  File \"/usr/local/lib/python3.6/dist-packages/IPython/core/ultratb.py\", line 1132, in get_records\n",
            "    return _fixed_getinnerframes(etb, number_of_lines_of_context, tb_offset)\n",
            "  File \"/usr/local/lib/python3.6/dist-packages/IPython/core/ultratb.py\", line 313, in wrapped\n",
            "    return f(*args, **kwargs)\n",
            "  File \"/usr/local/lib/python3.6/dist-packages/IPython/core/ultratb.py\", line 358, in _fixed_getinnerframes\n",
            "    records = fix_frame_records_filenames(inspect.getinnerframes(etb, context))\n",
            "  File \"/usr/lib/python3.6/inspect.py\", line 1490, in getinnerframes\n",
            "    frameinfo = (tb.tb_frame,) + getframeinfo(tb, context)\n",
            "  File \"/usr/lib/python3.6/inspect.py\", line 1448, in getframeinfo\n",
            "    filename = getsourcefile(frame) or getfile(frame)\n",
            "  File \"/usr/lib/python3.6/inspect.py\", line 696, in getsourcefile\n",
            "    if getattr(getmodule(object, filename), '__loader__', None) is not None:\n",
            "  File \"/usr/lib/python3.6/inspect.py\", line 725, in getmodule\n",
            "    file = getabsfile(object, _filename)\n",
            "  File \"/usr/lib/python3.6/inspect.py\", line 709, in getabsfile\n",
            "    return os.path.normcase(os.path.abspath(_filename))\n",
            "  File \"/usr/lib/python3.6/posixpath.py\", line 383, in abspath\n",
            "    cwd = os.getcwd()\n",
            "FileNotFoundError: [Errno 2] No such file or directory\n"
          ],
          "name": "stdout"
        },
        {
          "output_type": "error",
          "ename": "FileNotFoundError",
          "evalue": "ignored",
          "traceback": [
            "\u001b[0;31m---------------------------------------------------------------------------\u001b[0m"
          ]
        }
      ]
    },
    {
      "cell_type": "code",
      "metadata": {
        "colab": {
          "base_uri": "https://localhost:8080/"
        },
        "id": "iDSF30qcV4iD",
        "outputId": "27a42a73-204d-430c-de7d-4fd13dda6934"
      },
      "source": [
        "model.predict_classes(test_set[30][0])"
      ],
      "execution_count": null,
      "outputs": [
        {
          "output_type": "stream",
          "text": [
            "/usr/local/lib/python3.6/dist-packages/tensorflow/python/keras/engine/sequential.py:450: UserWarning: `model.predict_classes()` is deprecated and will be removed after 2021-01-01. Please use instead:* `np.argmax(model.predict(x), axis=-1)`,   if your model does multi-class classification   (e.g. if it uses a `softmax` last-layer activation).* `(model.predict(x) > 0.5).astype(\"int32\")`,   if your model does binary classification   (e.g. if it uses a `sigmoid` last-layer activation).\n",
            "  warnings.warn('`model.predict_classes()` is deprecated and '\n"
          ],
          "name": "stderr"
        },
        {
          "output_type": "execute_result",
          "data": {
            "text/plain": [
              "array([[1],\n",
              "       [1],\n",
              "       [0],\n",
              "       [1],\n",
              "       [0],\n",
              "       [1],\n",
              "       [1],\n",
              "       [1]], dtype=int32)"
            ]
          },
          "metadata": {
            "tags": []
          },
          "execution_count": 25
        }
      ]
    },
    {
      "cell_type": "code",
      "metadata": {
        "id": "LOSNkoktV9fU",
        "colab": {
          "base_uri": "https://localhost:8080/"
        },
        "outputId": "f8fb5b1a-83e8-4059-f8bf-7e9275f2dbad"
      },
      "source": [
        "test_set.labels"
      ],
      "execution_count": null,
      "outputs": [
        {
          "output_type": "execute_result",
          "data": {
            "text/plain": [
              "array([0, 0, 0, 0, 0, 0, 0, 0, 0, 0, 0, 0, 0, 0, 0, 0, 0, 0, 0, 0, 0, 0,\n",
              "       0, 0, 0, 0, 0, 0, 0, 0, 0, 0, 0, 0, 0, 0, 0, 0, 0, 0, 0, 0, 0, 0,\n",
              "       0, 0, 0, 0, 0, 0, 0, 0, 0, 0, 0, 0, 0, 0, 0, 0, 0, 0, 0, 0, 0, 0,\n",
              "       0, 0, 0, 0, 0, 0, 0, 0, 0, 0, 0, 0, 0, 0, 0, 0, 0, 0, 0, 0, 0, 0,\n",
              "       0, 0, 0, 0, 0, 0, 0, 0, 0, 0, 0, 0, 0, 0, 0, 0, 0, 0, 0, 0, 0, 0,\n",
              "       0, 0, 0, 0, 0, 0, 0, 0, 0, 0, 0, 0, 0, 0, 0, 0, 0, 0, 0, 0, 0, 0,\n",
              "       0, 0, 0, 0, 0, 0, 0, 0, 0, 0, 0, 0, 0, 0, 0, 0, 0, 0, 0, 0, 0, 0,\n",
              "       0, 0, 0, 0, 0, 0, 0, 0, 0, 0, 0, 0, 0, 0, 0, 0, 0, 0, 0, 0, 0, 0,\n",
              "       0, 0, 0, 0, 0, 0, 0, 0, 0, 0, 0, 0, 0, 0, 0, 0, 0, 0, 0, 0, 0, 0,\n",
              "       0, 0, 0, 0, 0, 0, 0, 0, 0, 0, 0, 0, 0, 0, 0, 0, 0, 0, 0, 0, 0, 0,\n",
              "       0, 0, 0, 0, 0, 0, 0, 0, 0, 0, 0, 0, 0, 0, 1, 1, 1, 1, 1, 1, 1, 1,\n",
              "       1, 1, 1, 1, 1, 1, 1, 1, 1, 1, 1, 1, 1, 1, 1, 1, 1, 1, 1, 1, 1, 1,\n",
              "       1, 1, 1, 1, 1, 1, 1, 1, 1, 1, 1, 1, 1, 1, 1, 1, 1, 1, 1, 1, 1, 1,\n",
              "       1, 1, 1, 1, 1, 1, 1, 1, 1, 1, 1, 1, 1, 1, 1, 1, 1, 1, 1, 1, 1, 1,\n",
              "       1, 1, 1, 1, 1, 1, 1, 1, 1, 1, 1, 1, 1, 1, 1, 1, 1, 1, 1, 1, 1, 1,\n",
              "       1, 1, 1, 1, 1, 1, 1, 1, 1, 1, 1, 1, 1, 1, 1, 1, 1, 1, 1, 1, 1, 1,\n",
              "       1, 1, 1, 1, 1, 1, 1, 1, 1, 1, 1, 1, 1, 1, 1, 1, 1, 1, 1, 1, 1, 1,\n",
              "       1, 1, 1, 1, 1, 1, 1, 1, 1, 1, 1, 1, 1, 1, 1, 1, 1, 1, 1, 1, 1, 1,\n",
              "       1, 1, 1, 1, 1, 1, 1, 1, 1, 1, 1, 1, 1, 1, 1, 1, 1, 1, 1, 1, 1, 1,\n",
              "       1, 1, 1, 1, 1, 1, 1, 1, 1, 1, 1, 1, 1, 1, 1, 1, 1, 1, 1, 1, 1, 1,\n",
              "       1, 1, 1, 1, 1, 1, 1, 1, 1, 1, 1, 1, 1, 1, 1, 1, 1, 1, 1, 1, 1, 1,\n",
              "       1, 1, 1, 1, 1, 1, 1, 1, 1, 1, 1, 1, 1, 1, 1, 1, 1, 1, 1, 1, 1, 1,\n",
              "       1, 1, 1, 1, 1, 1, 1, 1, 1, 1, 1, 1, 1, 1, 1, 1, 1, 1, 1, 1, 1, 1,\n",
              "       1, 1, 1, 1, 1, 1, 1, 1, 1, 1, 1, 1, 1, 1, 1, 1, 1, 1, 1, 1, 1, 1,\n",
              "       1, 1, 1, 1, 1, 1, 1, 1, 1, 1, 1, 1, 1, 1, 1, 1, 1, 1, 1, 1, 1, 1,\n",
              "       1, 1, 1, 1, 1, 1, 1, 1, 1, 1, 1, 1, 1, 1, 1, 1, 1, 1, 1, 1, 1, 1,\n",
              "       1, 1, 1, 1, 1, 1, 1, 1, 1, 1, 1, 1, 1, 1, 1, 1, 1, 1, 1, 1, 1, 1,\n",
              "       1, 1, 1, 1, 1, 1, 1, 1, 1, 1, 1, 1, 1, 1, 1, 1, 1, 1, 1, 1, 1, 1,\n",
              "       1, 1, 1, 1, 1, 1, 1, 1], dtype=int32)"
            ]
          },
          "metadata": {
            "tags": []
          },
          "execution_count": 26
        }
      ]
    },
    {
      "cell_type": "code",
      "metadata": {
        "colab": {
          "base_uri": "https://localhost:8080/",
          "height": 241
        },
        "id": "Ot_ZM37kczgy",
        "outputId": "2ff0ed55-48fd-439b-a12e-3e56299f4c1c"
      },
      "source": [
        "fig, ax = plt.subplots(1, 2, figsize = (10, 3))\r\n",
        "ax = ax.ravel()\r\n",
        "\r\n",
        "for i, met in enumerate(['accuracy', 'loss']):\r\n",
        "    ax[i].plot(cnn.history[met])\r\n",
        "    ax[i].plot(cnn.history['val_' + met])\r\n",
        "    ax[i].set_title('Model {}'.format(met))\r\n",
        "    ax[i].set_xlabel('epochs')\r\n",
        "    ax[i].set_ylabel(met)\r\n",
        "    ax[i].legend(['train', 'val'])"
      ],
      "execution_count": null,
      "outputs": [
        {
          "output_type": "display_data",
          "data": {
            "image/png": "[encoded data removed]",
            "text/plain": [
              "<Figure size 720x216 with 2 Axes>"
            ]
          },
          "metadata": {
            "tags": [],
            "needs_background": "light"
          }
        }
      ]
    },
    {
      "cell_type": "code",
      "metadata": {
        "id": "5TzScwenixt1"
      },
      "source": [
        "test_data = []\r\n",
        "test_labels = []\r\n",
        "\r\n",
        "for title in ['/NORMAL/', '/PNEUMONIA/']:\r\n",
        "        for img in (os.listdir(data_dir + '/test' + title)):\r\n",
        "            img = plt.imread(data_dir + '/test' + title + img)\r\n",
        "            img = cv2.resize(img, (img_size, img_size))\r\n",
        "            img = np.dstack([img, img, img])\r\n",
        "            img = img.astype('float32') / 255\r\n",
        "            if title == '/NORMAL/':\r\n",
        "                label = 0\r\n",
        "            elif title == '/PNEUMONIA/':\r\n",
        "                label = 1\r\n",
        "            test_data.append(img)\r\n",
        "            test_labels.append(label)\r\n",
        "        \r\n",
        "test_data = np.array(test_data)\r\n",
        "test_labels = np.array(test_labels)\r\n",
        "# get predictions\r\n",
        "preds = model.predict(test_data)\r\n",
        "\r\n",
        "acc = accuracy_score(test_labels, np.round(preds))*100\r\n",
        "# get the confusion matrix\r\n",
        "mat = confusion_matrix(test_labels, np.round(preds))"
      ],
      "execution_count": null,
      "outputs": []
    },
    {
      "cell_type": "code",
      "metadata": {
        "colab": {
          "base_uri": "https://localhost:8080/",
          "height": 312
        },
        "id": "Ja3L9GPbqot6",
        "outputId": "c885d150-fa19-486b-c179-e81279f76897"
      },
      "source": [
        "from sklearn.metrics import ConfusionMatrixDisplay\r\n",
        "cmd = ConfusionMatrixDisplay(mat, display_labels=['Normal', 'Pneumonia'])\r\n",
        "cmd.plot(cmap = plt.cm.Blues)\r\n",
        "plt.title('Confusion Matrix')"
      ],
      "execution_count": null,
      "outputs": [
        {
          "output_type": "execute_result",
          "data": {
            "text/plain": [
              "Text(0.5, 1.0, 'Confusion Matrix')"
            ]
          },
          "metadata": {
            "tags": []
          },
          "execution_count": 29
        },
        {
          "output_type": "display_data",
          "data": {
            "image/png": "[encoded data removed]",
            "text/plain": [
              "<Figure size 432x288 with 2 Axes>"
            ]
          },
          "metadata": {
            "tags": [],
            "needs_background": "light"
          }
        }
      ]
    },
    {
      "cell_type": "code",
      "metadata": {
        "colab": {
          "base_uri": "https://localhost:8080/"
        },
        "id": "cFK20JT2qyZK",
        "outputId": "8ab28f1d-486d-4a21-da54-2554e4f5e4b0"
      },
      "source": [
        "# calculate precision and recall\r\n",
        "tn, fp, fn, tp = mat.ravel()\r\n",
        "print('Test Metrics:')\r\n",
        "precision = tp / (tp + fp) * 100\r\n",
        "recall = tp / (tp + fn) * 100\r\n",
        "print('Accuracy: {}%'.format(acc))\r\n",
        "print('Precision: {}%'.format(precision))\r\n",
        "print('Recall: {}%'.format(recall))\r\n",
        "print('F1-score: {}'.format(2*precision*recall/(precision+recall)))"
      ],
      "execution_count": null,
      "outputs": [
        {
          "output_type": "stream",
          "text": [
            "Test Metrics:\n",
            "Accuracy: 85.57692307692307%\n",
            "Precision: 82.75109170305677%\n",
            "Recall: 97.17948717948718%\n",
            "F1-score: 89.38679245283019\n"
          ],
          "name": "stdout"
        }
      ]
    },
    {
      "cell_type": "code",
      "metadata": {
        "colab": {
          "base_uri": "https://localhost:8080/"
        },
        "id": "zZeDrne8q2NM",
        "outputId": "4dcd9ac7-b8b2-46b3-a9f4-35581f3a7a53"
      },
      "source": [
        "print('Train Metric:')\r\n",
        "print('Train accuracy: {}%'.format(np.round(cnn.history['accuracy'][-1]*100, 2)))"
      ],
      "execution_count": null,
      "outputs": [
        {
          "output_type": "stream",
          "text": [
            "Train Metric:\n",
            "Train accuracy: 92.06%\n"
          ],
          "name": "stdout"
        }
      ]
    },
    {
      "cell_type": "code",
      "metadata": {
        "id": "M2_5VLktq7Zq"
      },
      "source": [
        ""
      ],
      "execution_count": null,
      "outputs": []
    }
  ]
}